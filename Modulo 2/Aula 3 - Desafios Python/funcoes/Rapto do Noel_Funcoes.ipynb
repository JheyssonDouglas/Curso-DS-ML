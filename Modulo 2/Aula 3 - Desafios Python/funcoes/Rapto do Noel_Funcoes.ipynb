{
 "cells": [
  {
   "cell_type": "markdown",
   "metadata": {},
   "source": [
    "# URGENTE!!! AJUDEM A ENCONTRAR O NOEL!!!\n",
    "![](https://media.giphy.com/media/11EEXw1EIEoHaE/giphy.gif)"
   ]
  },
  {
   "cell_type": "markdown",
   "metadata": {},
   "source": [
    "<h1>Atenção a todos os cientistas de dados!</h1><br>\n",
    "O Noel, o dogginho mais fofinho da Tera, foi raptado! Nós temos poucas pistas e contamos com suas habilidades afiadas de Python para nos ajudar a encontrar o vil ser que foi responsável por abduzir tal criaturinha. Para realizar esta árdua tarefa, você deverá desenvolver sua capacidade de criar e iterar listas e dicionários, e em especial desenvolver funções que irão nos permitir chegar rapidamente ao culpado. Pegue sua água e seu lanchinho, alongue seus dedos e se prepare para por as mãos na massa!"
   ]
  },
  {
   "cell_type": "code",
   "execution_count": 13,
   "metadata": {},
   "outputs": [],
   "source": [
    "# Aqui temos um dicionário com as informações de todos os suspeitos levantados pela polícia do rapto de Noel\n",
    "# note que todos são moradores do mesmo prédio, apenas de andares diferentes\n",
    "\n",
    "suspeitos = {\n",
    "    'Nome' : ['André', 'Bianca', 'Leonardo', 'Kelly', 'Bernardo', 'Úrsula'],\n",
    "    'Idade' : [18, 30, 24, 20, 42, 37],\n",
    "    'Cor de Cabelo' : ['loiro', 'loiro', 'moreno', 'moreno', 'ruivo', 'moreno'],\n",
    "    'Andar' : [1, 4, 7, 12, 2, 6]\n",
    "}"
   ]
  },
  {
   "cell_type": "code",
   "execution_count": null,
   "metadata": {},
   "outputs": [],
   "source": [
    "# Aqui temos informações dadas pela primeira testemunha ocular, que mora no 3º andar\n",
    "\n",
    "print(\"Vi alguém moreno correndo para subir as escadas\")"
   ]
  },
  {
   "cell_type": "code",
   "execution_count": null,
   "metadata": {},
   "outputs": [],
   "source": [
    "# Aqui temos informações dadas pela segunda testemunha ocular, que não é residente do prédio\n",
    "\n",
    "print(\"Acredito que a pessoa tenha mais de 25 anos\")"
   ]
  },
  {
   "cell_type": "markdown",
   "metadata": {},
   "source": [
    "<h1>1. Sua primeira tarefa é criar uma função que retorne o input de nome dado na fórmula abaixo indicando se a pessoa é de fato é culpada pelo rapto do pobre Noel.</h1><br>\n",
    "Os retornos possíveis devem ser \"A pessoa não é culpada\" ou \"A pessoa é culpada\"."
   ]
  },
  {
   "cell_type": "code",
   "execution_count": 14,
   "metadata": {},
   "outputs": [],
   "source": [
    "# inpute aqui o nome de cada um dos suspeitos até encontrar o culpado!!!\n",
    "\n",
    "nome = str(input(\"Digite o nome que deseja validar se é suspeito: \"))"
   ]
  },
  {
   "cell_type": "code",
   "execution_count": 11,
   "metadata": {},
   "outputs": [],
   "source": [
    "# crie aqui a sua função\n"
   ]
  },
  {
   "cell_type": "code",
   "execution_count": null,
   "metadata": {},
   "outputs": [],
   "source": [
    "# coloque aqui o call da sua função\n"
   ]
  },
  {
   "cell_type": "code",
   "execution_count": 15,
   "metadata": {},
   "outputs": [
    {
     "name": "stdout",
     "output_type": "stream",
     "text": [
      "A pessoa não é culpada\n"
     ]
    }
   ],
   "source": [
    "Exemplo de output"
   ]
  },
  {
   "cell_type": "markdown",
   "metadata": {},
   "source": [
    "# Parabéns!!! Você conseguiu salvar o Noel!!!\n",
    "![](https://img1.picmix.com/output/pic/normal/4/4/7/9/3269744_d1e01.gif)"
   ]
  },
  {
   "cell_type": "markdown",
   "metadata": {},
   "source": [
    "<h1>Agora precisamos preparar os cuidados pós trauma dele...</h1><br>\n",
    "Você agora irá separar os petiscos que o Noel adora e também os exercícios de adestramento dele, para garantir que ele está em forma!<br>\n",
    "Primeiro vamos preparar os petiscos do Noel, já que ele é bem criterioso com o que come e está com muita fome.\n",
    "\n",
    "- Quando o petisco é da marca 'ossinhos' o Noel come 3 por dia;\n",
    "- Quando o petisco é da marca 'banquete' o Noel come 5 por dia;\n",
    "- Nos dias que ele faz exercícios de adestramento, ele precisa de 50% mais petiscos para o seu treino\n",
    "- Normalmente ele faz exercícios de adestramento 2 vezes por semana, porém esse número pode variar.\n",
    "- O Noel não consegue fazer mais de um exercício por dia, pois é bem puxado!\n",
    "- Normalmente o Noel come apenas uma marca de petiscos por semana, ele não gosta de misturar os petiscos!"
   ]
  },
  {
   "cell_type": "markdown",
   "metadata": {},
   "source": [
    "<h1>2. Sua segunda tarefa é criar uma função que irá calcular quantos petiscos precisaremos durante a semana. Nomeie sua função: <code>calcular_petiscos<code>"
   ]
  },
  {
   "cell_type": "markdown",
   "metadata": {},
   "source": [
    "Dica de Ouro: A sua função terá que receber no mínimo UM argumento para rodar, sendo ele a marca dos petiscos e opcionalmente poderá receber um segundo argumento, que é a quantidade de exercícios semanais."
   ]
  },
  {
   "cell_type": "code",
   "execution_count": null,
   "metadata": {},
   "outputs": [],
   "source": [
    "# Escreva sua função aqui. \n"
   ]
  },
  {
   "cell_type": "markdown",
   "metadata": {},
   "source": [
    "Agora, iremos testar a função criada com os parâmetros abaixo! Basta apenas rodar as funções abaixo e comparar com o resultado esperado:\n"
   ]
  },
  {
   "cell_type": "code",
   "execution_count": null,
   "metadata": {},
   "outputs": [],
   "source": [
    "#Para testar sua função, rode essa célula!\n",
    "print(calcular_petiscos('ossinhos', 3))\n",
    "print(calcular_petiscos('banquete', 5))\n",
    "print(calcular_petiscos('banquete'))\n",
    "print(calcular_petiscos('ossinhos'))\n",
    "print(calcular_petiscos('ossinhos', 8))"
   ]
  },
  {
   "cell_type": "code",
   "execution_count": null,
   "metadata": {},
   "outputs": [],
   "source": [
    "## Resultado Esperado\n",
    "25.5\n",
    "47.5\n",
    "40.0\n",
    "24.0\n",
    "A semana só tem 7 dias!"
   ]
  }
 ],
 "metadata": {
  "kernelspec": {
   "display_name": "Python 3",
   "language": "python",
   "name": "python3"
  },
  "language_info": {
   "codemirror_mode": {
    "name": "ipython",
    "version": 3
   },
   "file_extension": ".py",
   "mimetype": "text/x-python",
   "name": "python",
   "nbconvert_exporter": "python",
   "pygments_lexer": "ipython3",
   "version": "3.8.8"
  }
 },
 "nbformat": 4,
 "nbformat_minor": 4
}
