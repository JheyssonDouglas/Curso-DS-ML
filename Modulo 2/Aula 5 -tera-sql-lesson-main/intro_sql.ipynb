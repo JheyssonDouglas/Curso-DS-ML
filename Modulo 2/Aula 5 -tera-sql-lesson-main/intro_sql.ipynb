{
 "cells": [
  {
   "cell_type": "markdown",
   "metadata": {
    "slideshow": {
     "slide_type": "slide"
    }
   },
   "source": [
    "## Estrutura e modelagem de Banco de dados"
   ]
  },
  {
   "cell_type": "markdown",
   "metadata": {
    "slideshow": {
     "slide_type": "subslide"
    }
   },
   "source": [
    "## Disclaimer\n",
    "\n",
    "Cursos de bancos de dados servem para mais de mais de um semestre (eu mesmo fiz três) rs. A idéia dessa aula é dar um overview dos conceitos porquê é isso que vocês encontrarão no dia a dia :)"
   ]
  },
  {
   "cell_type": "markdown",
   "metadata": {
    "slideshow": {
     "slide_type": "slide"
    }
   },
   "source": [
    "## R[D]BMS\n",
    "- **Data**base?\n",
    "    - Data - pode ser qualquer coisa"
   ]
  },
  {
   "cell_type": "markdown",
   "metadata": {
    "slideshow": {
     "slide_type": "subslide"
    }
   },
   "source": [
    "## R[D]BMS\n",
    "- Data**base**?\n",
    "\n",
    "Cojunto de informações organizadas. Onde, os dados podem ser facilmente **armazenados**, **gerenciados**, **atualizados** e **recuperados**"
   ]
  },
  {
   "cell_type": "markdown",
   "metadata": {
    "slideshow": {
     "slide_type": "subslide"
    }
   },
   "source": [
    "## R[DBMS]\n",
    "\n",
    "Um **Database Management System (DBMS)** é o software que interage com usuários finais, aplicativos e o próprio banco de dados para armazenar, gerenciar e recuperar os dados.\n",
    "\n",
    "Um **banco de dados relacional** é um banco de dados que organiza os dados na forma que eles sejam percebidos pelo usuário como **tabelas**, ou mais formalmente relações.\n",
    "\n"
   ]
  },
  {
   "cell_type": "markdown",
   "metadata": {
    "slideshow": {
     "slide_type": "subslide"
    }
   },
   "source": [
    "Exemplos de RDMBS:\n",
    "- Mysql\n",
    "- Postgresql\n",
    "- Oracle\n",
    "- **SQLite (iremos usar nessa aula)** "
   ]
  },
  {
   "cell_type": "markdown",
   "metadata": {
    "slideshow": {
     "slide_type": "slide"
    }
   },
   "source": [
    "## R[D]BMS\n",
    "![](imgs_sql_intro/db_direct_interface.png)"
   ]
  },
  {
   "cell_type": "markdown",
   "metadata": {
    "slideshow": {
     "slide_type": "slide"
    }
   },
   "source": [
    "## [R]DBMS\n",
    "Relações (Relations) = Tabelas\n",
    "\n",
    "Um conjunto de: Rows(records) e Columns(fields)"
   ]
  },
  {
   "cell_type": "markdown",
   "metadata": {
    "slideshow": {
     "slide_type": "slide"
    }
   },
   "source": [
    "\n",
    "![](imgs_sql_intro/tabela_cliente.png)"
   ]
  },
  {
   "cell_type": "markdown",
   "metadata": {
    "slideshow": {
     "slide_type": "slide"
    }
   },
   "source": [
    "## [R]DBMS\n",
    "Relações (Relations) = Tabelas\n"
   ]
  },
  {
   "cell_type": "markdown",
   "metadata": {
    "slideshow": {
     "slide_type": "subslide"
    }
   },
   "source": [
    "![](imgs_sql_intro/relacionamento_2.png)"
   ]
  },
  {
   "cell_type": "markdown",
   "metadata": {
    "slideshow": {
     "slide_type": "slide"
    }
   },
   "source": [
    "## SQL\n",
    "- Para trabalhar com um RDBMS, você tem que usar *SQL*, também conhecida como a Linguagem de Consulta Estruturada (Structured Query Language). \n",
    "- SQL permite acessar e manipular bancos de dados\n",
    "- Cada RDBMS utiliza um dialeto diferente (no nosso caso vamos usar o dialeto do SQLite)."
   ]
  },
  {
   "cell_type": "markdown",
   "metadata": {
    "slideshow": {
     "slide_type": "skip"
    }
   },
   "source": [
    "Ver mais sobre SQLite: https://www.hostinger.com.br/tutoriais/sqlite-vs-mysql"
   ]
  },
  {
   "cell_type": "markdown",
   "metadata": {
    "slideshow": {
     "slide_type": "slide"
    }
   },
   "source": [
    "## Conectando com o banco de dados"
   ]
  },
  {
   "cell_type": "code",
   "execution_count": 1,
   "metadata": {
    "slideshow": {
     "slide_type": "subslide"
    }
   },
   "outputs": [
    {
     "name": "stdout",
     "output_type": "stream",
     "text": [
      "Collecting ipython-sql\n",
      "  Downloading ipython_sql-0.4.0-py3-none-any.whl (19 kB)\n",
      "Requirement already satisfied: ipython-genutils>=0.1.0 in /home/andrebarbosa/.pyenv/versions/3.9.0/envs/nyu/lib/python3.9/site-packages (from ipython-sql) (0.2.0)\n",
      "Requirement already satisfied: ipython>=1.0 in /home/andrebarbosa/.pyenv/versions/3.9.0/envs/nyu/lib/python3.9/site-packages (from ipython-sql) (7.28.0)\n",
      "Collecting prettytable<1\n",
      "  Downloading prettytable-0.7.2.zip (28 kB)\n",
      "Requirement already satisfied: six in /home/andrebarbosa/.pyenv/versions/3.9.0/envs/nyu/lib/python3.9/site-packages (from ipython-sql) (1.16.0)\n",
      "Collecting sqlalchemy>=0.6.7\n",
      "  Downloading SQLAlchemy-1.4.27-cp39-cp39-manylinux_2_5_x86_64.manylinux1_x86_64.manylinux_2_17_x86_64.manylinux2014_x86_64.whl (1.6 MB)\n",
      "\u001b[K     |████████████████████████████████| 1.6 MB 4.3 MB/s eta 0:00:01\n",
      "\u001b[?25hCollecting sqlparse\n",
      "  Downloading sqlparse-0.4.2-py3-none-any.whl (42 kB)\n",
      "\u001b[K     |████████████████████████████████| 42 kB 1.8 MB/s  eta 0:00:01\n",
      "\u001b[?25hRequirement already satisfied: setuptools>=18.5 in /home/andrebarbosa/.pyenv/versions/3.9.0/envs/nyu/lib/python3.9/site-packages (from ipython>=1.0->ipython-sql) (49.2.1)\n",
      "Requirement already satisfied: pygments in /home/andrebarbosa/.pyenv/versions/3.9.0/envs/nyu/lib/python3.9/site-packages (from ipython>=1.0->ipython-sql) (2.10.0)\n",
      "Requirement already satisfied: decorator in /home/andrebarbosa/.pyenv/versions/3.9.0/envs/nyu/lib/python3.9/site-packages (from ipython>=1.0->ipython-sql) (5.1.0)\n",
      "Requirement already satisfied: jedi>=0.16 in /home/andrebarbosa/.pyenv/versions/3.9.0/envs/nyu/lib/python3.9/site-packages (from ipython>=1.0->ipython-sql) (0.18.0)\n",
      "Requirement already satisfied: prompt-toolkit!=3.0.0,!=3.0.1,<3.1.0,>=2.0.0 in /home/andrebarbosa/.pyenv/versions/3.9.0/envs/nyu/lib/python3.9/site-packages (from ipython>=1.0->ipython-sql) (3.0.20)\n",
      "Requirement already satisfied: pexpect>4.3 in /home/andrebarbosa/.pyenv/versions/3.9.0/envs/nyu/lib/python3.9/site-packages (from ipython>=1.0->ipython-sql) (4.8.0)\n",
      "Requirement already satisfied: pickleshare in /home/andrebarbosa/.pyenv/versions/3.9.0/envs/nyu/lib/python3.9/site-packages (from ipython>=1.0->ipython-sql) (0.7.5)\n",
      "Requirement already satisfied: backcall in /home/andrebarbosa/.pyenv/versions/3.9.0/envs/nyu/lib/python3.9/site-packages (from ipython>=1.0->ipython-sql) (0.2.0)\n",
      "Requirement already satisfied: matplotlib-inline in /home/andrebarbosa/.pyenv/versions/3.9.0/envs/nyu/lib/python3.9/site-packages (from ipython>=1.0->ipython-sql) (0.1.3)\n",
      "Requirement already satisfied: traitlets>=4.2 in /home/andrebarbosa/.pyenv/versions/3.9.0/envs/nyu/lib/python3.9/site-packages (from ipython>=1.0->ipython-sql) (5.1.0)\n",
      "Requirement already satisfied: parso<0.9.0,>=0.8.0 in /home/andrebarbosa/.pyenv/versions/3.9.0/envs/nyu/lib/python3.9/site-packages (from jedi>=0.16->ipython>=1.0->ipython-sql) (0.8.2)\n",
      "Requirement already satisfied: ptyprocess>=0.5 in /home/andrebarbosa/.pyenv/versions/3.9.0/envs/nyu/lib/python3.9/site-packages (from pexpect>4.3->ipython>=1.0->ipython-sql) (0.7.0)\n",
      "Requirement already satisfied: wcwidth in /home/andrebarbosa/.pyenv/versions/3.9.0/envs/nyu/lib/python3.9/site-packages (from prompt-toolkit!=3.0.0,!=3.0.1,<3.1.0,>=2.0.0->ipython>=1.0->ipython-sql) (0.2.5)\n",
      "Collecting greenlet!=0.4.17\n",
      "  Downloading greenlet-1.1.2-cp39-cp39-manylinux_2_17_x86_64.manylinux2014_x86_64.whl (153 kB)\n",
      "\u001b[K     |████████████████████████████████| 153 kB 11.0 MB/s eta 0:00:01\n",
      "\u001b[?25hBuilding wheels for collected packages: prettytable\n",
      "  Building wheel for prettytable (setup.py) ... \u001b[?25ldone\n",
      "\u001b[?25h  Created wheel for prettytable: filename=prettytable-0.7.2-py3-none-any.whl size=13699 sha256=4bc26488fc1425e14033bccc29e081960664414a8d383868119bb01ec182f438\n",
      "  Stored in directory: /home/andrebarbosa/.cache/pip/wheels/75/f7/28/77a076f1fa8cbeda61aca712815d04d7a32435f04a26a2dd7b\n",
      "Successfully built prettytable\n",
      "Installing collected packages: greenlet, sqlparse, sqlalchemy, prettytable, ipython-sql\n",
      "Successfully installed greenlet-1.1.2 ipython-sql-0.4.0 prettytable-0.7.2 sqlalchemy-1.4.27 sqlparse-0.4.2\n",
      "\u001b[33mWARNING: You are using pip version 21.2.4; however, version 21.3.1 is available.\n",
      "You should consider upgrading via the '/home/andrebarbosa/.pyenv/versions/3.9.0/envs/nyu/bin/python3.9 -m pip install --upgrade pip' command.\u001b[0m\n"
     ]
    }
   ],
   "source": [
    "# extensão para rodar comandos sql direto no jupyter\n",
    "!pip install ipython-sql"
   ]
  },
  {
   "cell_type": "code",
   "execution_count": 2,
   "metadata": {
    "slideshow": {
     "slide_type": "subslide"
    }
   },
   "outputs": [],
   "source": [
    "# Carregando a extensão do jupyter para executar Queries\n",
    "# Usa o sqlalchemy, ver sobre https://www.sqlalchemy.org/\n",
    "# Para adicionar syntax highlighting de sql: https://stackoverflow.com/questions/43641362/adding-syntax-highlighting-to-jupyter-notebook-cell-magic\n",
    "# Instalação:\n",
    "%load_ext sql"
   ]
  },
  {
   "cell_type": "code",
   "execution_count": 3,
   "metadata": {
    "slideshow": {
     "slide_type": "slide"
    }
   },
   "outputs": [],
   "source": [
    "# String de conexão com o banco de dados, (criando e conectando com um banco de dados SQLite)\n",
    "%sql sqlite:///data/exemplo.db"
   ]
  },
  {
   "cell_type": "code",
   "execution_count": 4,
   "metadata": {
    "slideshow": {
     "slide_type": "fragment"
    }
   },
   "outputs": [],
   "source": [
    "#  reiniciar o kernel do jupyter caso queira deletar o banco\n",
    "#  comando para deletar o banco:\n",
    "# !rm data/exemplo.db"
   ]
  },
  {
   "cell_type": "markdown",
   "metadata": {
    "slideshow": {
     "slide_type": "slide"
    }
   },
   "source": [
    "## Create table - criando uma tabela"
   ]
  },
  {
   "cell_type": "markdown",
   "metadata": {
    "slideshow": {
     "slide_type": "subslide"
    }
   },
   "source": [
    "SQLite tipos de dados:\n",
    "\n",
    "**NULL**. The value is a NULL value.\n",
    "\n",
    "**INTEGER**. The value is a signed integer, stored in 1, 2, 3, 4, 6, or 8 bytes depending on the magnitude of the value.\n",
    "\n",
    "**REAL**. The value is a floating point value, stored as an 8-byte IEEE floating point number.\n",
    "\n",
    "**TEXT**. The value is a text string, stored using the database encoding (UTF-8, UTF-16BE or UTF-16LE).\n",
    "\n",
    "**BLOB**. The value is a blob of data, stored exactly as it was input.\n",
    "\n",
    "**DATETIME or TIMESTAMP** SQLite are capable of storing dates and times as TEXT, REAL, or INTEGER values:\n"
   ]
  },
  {
   "cell_type": "markdown",
   "metadata": {
    "slideshow": {
     "slide_type": "slide"
    }
   },
   "source": [
    "## CREATE TABLE - criando uma tabela"
   ]
  },
  {
   "cell_type": "code",
   "execution_count": 4,
   "metadata": {
    "slideshow": {
     "slide_type": "subslide"
    }
   },
   "outputs": [
    {
     "name": "stdout",
     "output_type": "stream",
     "text": [
      " * sqlite:///data/exemplo.db\n",
      "Done.\n"
     ]
    },
    {
     "data": {
      "text/plain": [
       "[]"
      ]
     },
     "execution_count": 4,
     "metadata": {},
     "output_type": "execute_result"
    }
   ],
   "source": [
    "%%sql\n",
    "-- comando para criar uma tabela produto\n",
    "CREATE TABLE products\n",
    "(\n",
    "    id         integer NOT NULL PRIMARY KEY,\n",
    "    name       text,\n",
    "    created_at timestamp,\n",
    "    active     boolean,\n",
    "    price      real\n",
    ");"
   ]
  },
  {
   "cell_type": "code",
   "execution_count": 5,
   "metadata": {
    "slideshow": {
     "slide_type": "skip"
    }
   },
   "outputs": [
    {
     "name": "stdout",
     "output_type": "stream",
     "text": [
      " * sqlite:///data/exemplo.db\n",
      "Done.\n"
     ]
    },
    {
     "data": {
      "text/html": [
       "<table>\n",
       "    <tr>\n",
       "        <th>id</th>\n",
       "        <th>name</th>\n",
       "        <th>created_at</th>\n",
       "        <th>active</th>\n",
       "        <th>price</th>\n",
       "    </tr>\n",
       "</table>"
      ],
      "text/plain": [
       "[]"
      ]
     },
     "execution_count": 5,
     "metadata": {},
     "output_type": "execute_result"
    }
   ],
   "source": [
    "%%sql\n",
    "select * from products"
   ]
  },
  {
   "cell_type": "code",
   "execution_count": 7,
   "metadata": {
    "slideshow": {
     "slide_type": "skip"
    }
   },
   "outputs": [
    {
     "name": "stdout",
     "output_type": "stream",
     "text": [
      " * sqlite:///data/exemplo.db\n",
      "0 rows affected.\n"
     ]
    },
    {
     "data": {
      "text/plain": [
       "[]"
      ]
     },
     "execution_count": 7,
     "metadata": {},
     "output_type": "execute_result"
    }
   ],
   "source": [
    "%%sql\n",
    "-- DELETANDO uma tabela\n",
    "-- DROP TABLE sales;\n",
    "-- DROP TABLE products;"
   ]
  },
  {
   "cell_type": "markdown",
   "metadata": {
    "slideshow": {
     "slide_type": "skip"
    }
   },
   "source": [
    "## DROP TABLE - deletando uma tabela"
   ]
  },
  {
   "cell_type": "code",
   "execution_count": 6,
   "metadata": {
    "slideshow": {
     "slide_type": "skip"
    }
   },
   "outputs": [
    {
     "name": "stdout",
     "output_type": "stream",
     "text": [
      " * sqlite:///data/exemplo.db\n",
      "Done.\n",
      "Done.\n"
     ]
    },
    {
     "data": {
      "text/plain": [
       "[]"
      ]
     },
     "execution_count": 6,
     "metadata": {},
     "output_type": "execute_result"
    }
   ],
   "source": [
    "%%sql\n",
    "-- comando para criar uma tabela\n",
    "CREATE TABLE test (id integer);\n",
    "\n",
    "-- comando para deletar uma tabela\n",
    "DROP TABLE test;"
   ]
  },
  {
   "cell_type": "markdown",
   "metadata": {
    "slideshow": {
     "slide_type": "slide"
    }
   },
   "source": [
    "## INSERT\n",
    "Comando para inserir novas linhas em uma tabela.\n",
    "```sql\n",
    "INSERT INTO table (column1,column2 ,..)\n",
    "VALUES( value1,\tvalue2 ,...);\n",
    "```"
   ]
  },
  {
   "cell_type": "code",
   "execution_count": 7,
   "metadata": {
    "slideshow": {
     "slide_type": "subslide"
    }
   },
   "outputs": [
    {
     "name": "stdout",
     "output_type": "stream",
     "text": [
      " * sqlite:///data/exemplo.db\n",
      "4 rows affected.\n"
     ]
    },
    {
     "data": {
      "text/plain": [
       "[]"
      ]
     },
     "execution_count": 7,
     "metadata": {},
     "output_type": "execute_result"
    }
   ],
   "source": [
    "%%sql\n",
    "INSERT INTO products (id, name, created_at, active, price)\n",
    "VALUES (1, 'eraser', '2019-11-08 00:00', TRUE, 0.5),\n",
    "       (2, 'paper', '2019-11-08 01:00', FALSE, 1.2),\n",
    "       (3, 'pencil', '2019-11-08 01:00', TRUE, 1.3),\n",
    "       (4, 'pen', '2019-12-08 01:00', FALSE, 1.5)\n",
    ";"
   ]
  },
  {
   "cell_type": "markdown",
   "metadata": {
    "slideshow": {
     "slide_type": "slide"
    }
   },
   "source": [
    "## Select e where clause\n",
    "Frequentemente usamos a instrução SELECT para consultar dados de uma ou mais tabelas\n",
    "\n",
    "```sql\n",
    "SELECT column_list FROM table WHERE search_condition;\n",
    "```"
   ]
  },
  {
   "cell_type": "code",
   "execution_count": 26,
   "metadata": {
    "scrolled": true,
    "slideshow": {
     "slide_type": "subslide"
    }
   },
   "outputs": [
    {
     "name": "stdout",
     "output_type": "stream",
     "text": [
      " * sqlite:///data/exemplo.db\n",
      "Done.\n"
     ]
    },
    {
     "data": {
      "text/html": [
       "<table>\n",
       "    <tr>\n",
       "        <th>id</th>\n",
       "        <th>name</th>\n",
       "    </tr>\n",
       "    <tr>\n",
       "        <td>3</td>\n",
       "        <td>pencil</td>\n",
       "    </tr>\n",
       "    <tr>\n",
       "        <td>4</td>\n",
       "        <td>pen</td>\n",
       "    </tr>\n",
       "    <tr>\n",
       "        <td>5</td>\n",
       "        <td>glue</td>\n",
       "    </tr>\n",
       "    <tr>\n",
       "        <td>6</td>\n",
       "        <td>premium glue</td>\n",
       "    </tr>\n",
       "</table>"
      ],
      "text/plain": [
       "[(3, 'pencil'), (4, 'pen'), (5, 'glue'), (6, 'premium glue')]"
      ]
     },
     "execution_count": 26,
     "metadata": {},
     "output_type": "execute_result"
    }
   ],
   "source": [
    "%%sql\n",
    "-- selecionando todos os produtos\n",
    "SELECT id, name FROM products where id > 2"
   ]
  },
  {
   "cell_type": "markdown",
   "metadata": {
    "slideshow": {
     "slide_type": "skip"
    }
   },
   "source": [
    "## Operações com SQL"
   ]
  },
  {
   "cell_type": "code",
   "execution_count": 10,
   "metadata": {
    "slideshow": {
     "slide_type": "skip"
    }
   },
   "outputs": [
    {
     "name": "stdout",
     "output_type": "stream",
     "text": [
      " * sqlite:///data/exemplo.db\n",
      "Done.\n"
     ]
    },
    {
     "data": {
      "text/html": [
       "<table>\n",
       "    <tr>\n",
       "        <th>1+2</th>\n",
       "    </tr>\n",
       "    <tr>\n",
       "        <td>3</td>\n",
       "    </tr>\n",
       "</table>"
      ],
      "text/plain": [
       "[(3,)]"
      ]
     },
     "execution_count": 10,
     "metadata": {},
     "output_type": "execute_result"
    }
   ],
   "source": [
    "%%sql\n",
    "SELECT 1+2;"
   ]
  },
  {
   "cell_type": "code",
   "execution_count": 11,
   "metadata": {
    "slideshow": {
     "slide_type": "skip"
    }
   },
   "outputs": [
    {
     "name": "stdout",
     "output_type": "stream",
     "text": [
      " * sqlite:///data/exemplo.db\n",
      "Done.\n"
     ]
    },
    {
     "data": {
      "text/html": [
       "<table>\n",
       "    <tr>\n",
       "        <th>2/4</th>\n",
       "    </tr>\n",
       "    <tr>\n",
       "        <td>0</td>\n",
       "    </tr>\n",
       "</table>"
      ],
      "text/plain": [
       "[(0,)]"
      ]
     },
     "execution_count": 11,
     "metadata": {},
     "output_type": "execute_result"
    }
   ],
   "source": [
    "%%sql\n",
    "SELECT 2/4;"
   ]
  },
  {
   "cell_type": "code",
   "execution_count": 12,
   "metadata": {
    "slideshow": {
     "slide_type": "skip"
    }
   },
   "outputs": [
    {
     "name": "stdout",
     "output_type": "stream",
     "text": [
      " * sqlite:///data/exemplo.db\n",
      "Done.\n"
     ]
    },
    {
     "data": {
      "text/html": [
       "<table>\n",
       "    <tr>\n",
       "        <th>2*4</th>\n",
       "    </tr>\n",
       "    <tr>\n",
       "        <td>8</td>\n",
       "    </tr>\n",
       "</table>"
      ],
      "text/plain": [
       "[(8,)]"
      ]
     },
     "execution_count": 12,
     "metadata": {},
     "output_type": "execute_result"
    }
   ],
   "source": [
    "%%sql\n",
    "SELECT 2*4;"
   ]
  },
  {
   "cell_type": "code",
   "execution_count": 13,
   "metadata": {
    "slideshow": {
     "slide_type": "skip"
    }
   },
   "outputs": [
    {
     "name": "stdout",
     "output_type": "stream",
     "text": [
      " * sqlite:///data/exemplo.db\n",
      "Done.\n"
     ]
    },
    {
     "data": {
      "text/html": [
       "<table>\n",
       "    <tr>\n",
       "        <th>2&lt;4</th>\n",
       "    </tr>\n",
       "    <tr>\n",
       "        <td>1</td>\n",
       "    </tr>\n",
       "</table>"
      ],
      "text/plain": [
       "[(1,)]"
      ]
     },
     "execution_count": 13,
     "metadata": {},
     "output_type": "execute_result"
    }
   ],
   "source": [
    "%%sql\n",
    "SELECT 2<4;"
   ]
  },
  {
   "cell_type": "markdown",
   "metadata": {
    "slideshow": {
     "slide_type": "slide"
    }
   },
   "source": [
    "## Select com limit"
   ]
  },
  {
   "cell_type": "code",
   "execution_count": 14,
   "metadata": {
    "slideshow": {
     "slide_type": "subslide"
    }
   },
   "outputs": [
    {
     "name": "stdout",
     "output_type": "stream",
     "text": [
      " * sqlite:///data/exemplo.db\n",
      "Done.\n"
     ]
    },
    {
     "data": {
      "text/html": [
       "<table>\n",
       "    <tr>\n",
       "        <th>id</th>\n",
       "        <th>name</th>\n",
       "    </tr>\n",
       "    <tr>\n",
       "        <td>1</td>\n",
       "        <td>eraser</td>\n",
       "    </tr>\n",
       "    <tr>\n",
       "        <td>2</td>\n",
       "        <td>paper</td>\n",
       "    </tr>\n",
       "</table>"
      ],
      "text/plain": [
       "[(1, 'eraser'), (2, 'paper')]"
      ]
     },
     "execution_count": 14,
     "metadata": {},
     "output_type": "execute_result"
    }
   ],
   "source": [
    "%%sql\n",
    "-- selecionando todos os produtos, limitando 2 registros\n",
    "SELECT id, name FROM products limit 2"
   ]
  },
  {
   "cell_type": "markdown",
   "metadata": {
    "slideshow": {
     "slide_type": "slide"
    }
   },
   "source": [
    "## Select e where clause\n",
    "\n",
    "```sql\n",
    "SELECT column_list FROM table WHERE [search_condition|expression];\n",
    "```\n",
    "\n",
    "Outros exemplos de expressões: https://www.tutorialspoint.com/sqlite/sqlite_where_clause.htm"
   ]
  },
  {
   "cell_type": "code",
   "execution_count": 28,
   "metadata": {
    "scrolled": true,
    "slideshow": {
     "slide_type": "subslide"
    }
   },
   "outputs": [
    {
     "name": "stdout",
     "output_type": "stream",
     "text": [
      " * sqlite:///data/exemplo.db\n",
      "Done.\n"
     ]
    },
    {
     "data": {
      "text/html": [
       "<table>\n",
       "    <tr>\n",
       "        <th>id</th>\n",
       "        <th>name</th>\n",
       "        <th>price</th>\n",
       "        <th>active</th>\n",
       "    </tr>\n",
       "    <tr>\n",
       "        <td>3</td>\n",
       "        <td>pencil</td>\n",
       "        <td>1.3</td>\n",
       "        <td>1</td>\n",
       "    </tr>\n",
       "    <tr>\n",
       "        <td>5</td>\n",
       "        <td>glue</td>\n",
       "        <td>2.5</td>\n",
       "        <td>1</td>\n",
       "    </tr>\n",
       "</table>"
      ],
      "text/plain": [
       "[(3, 'pencil', 1.3, 1), (5, 'glue', 2.5, 1)]"
      ]
     },
     "execution_count": 28,
     "metadata": {},
     "output_type": "execute_result"
    }
   ],
   "source": [
    "%%sql\n",
    "select \n",
    "    id, name, price, active -- colunas\n",
    "from\n",
    "    products\n",
    "where\n",
    "    -- price >= 1.3 \n",
    "    price >= 1.3 AND active = TRUE"
   ]
  },
  {
   "cell_type": "markdown",
   "metadata": {
    "slideshow": {
     "slide_type": "skip"
    }
   },
   "source": [
    "## Update\n",
    "Usamos a instrução `UPDATE` para atualizar um registro (row) de uma tabela\n",
    "```sql\n",
    "UPDATE table\n",
    "SET column_1 = new_value_1,\n",
    "    column_2 = new_value_2\n",
    "WHERE\n",
    "    search_condition \n",
    "```"
   ]
  },
  {
   "cell_type": "code",
   "execution_count": 16,
   "metadata": {
    "slideshow": {
     "slide_type": "skip"
    }
   },
   "outputs": [
    {
     "name": "stdout",
     "output_type": "stream",
     "text": [
      " * sqlite:///data/exemplo.db\n",
      "1 rows affected.\n"
     ]
    },
    {
     "data": {
      "text/plain": [
       "[]"
      ]
     },
     "execution_count": 16,
     "metadata": {},
     "output_type": "execute_result"
    }
   ],
   "source": [
    "%%sql\n",
    "update products \n",
    "set price = 2.0, \n",
    "    active=0\n",
    "where id=4"
   ]
  },
  {
   "cell_type": "code",
   "execution_count": 17,
   "metadata": {
    "slideshow": {
     "slide_type": "skip"
    }
   },
   "outputs": [
    {
     "name": "stdout",
     "output_type": "stream",
     "text": [
      " * sqlite:///data/exemplo.db\n",
      "Done.\n"
     ]
    },
    {
     "data": {
      "text/html": [
       "<table>\n",
       "    <tr>\n",
       "        <th>id</th>\n",
       "        <th>name</th>\n",
       "        <th>price</th>\n",
       "        <th>created_at</th>\n",
       "    </tr>\n",
       "    <tr>\n",
       "        <td>4</td>\n",
       "        <td>pen</td>\n",
       "        <td>2.0</td>\n",
       "        <td>2019-12-08 01:00</td>\n",
       "    </tr>\n",
       "</table>"
      ],
      "text/plain": [
       "[(4, 'pen', 2.0, '2019-12-08 01:00')]"
      ]
     },
     "execution_count": 17,
     "metadata": {},
     "output_type": "execute_result"
    }
   ],
   "source": [
    "%%sql\n",
    "-- verificando se o produto 4 sofreu de fato um update (seu preço antigo era 1.5, novo preco 2.0)\n",
    "select id, name, price, created_at from products where id=4"
   ]
  },
  {
   "cell_type": "markdown",
   "metadata": {
    "slideshow": {
     "slide_type": "skip"
    }
   },
   "source": [
    "## DELETE\n",
    "\n",
    "A instrução `DELETE` permite que você exclua uma linha, várias linhas e todas as linhas de uma tabela\n",
    "```SQL\n",
    "DELETE FROM table\n",
    "WHERE search_condition;\n",
    "````"
   ]
  },
  {
   "cell_type": "code",
   "execution_count": 18,
   "metadata": {
    "slideshow": {
     "slide_type": "skip"
    }
   },
   "outputs": [
    {
     "name": "stdout",
     "output_type": "stream",
     "text": [
      " * sqlite:///data/exemplo.db\n",
      "Done.\n"
     ]
    },
    {
     "data": {
      "text/plain": [
       "[]"
      ]
     },
     "execution_count": 18,
     "metadata": {},
     "output_type": "execute_result"
    }
   ],
   "source": [
    "%%sql\n",
    "-- inserindo alguns novos produtos\n",
    "INSERT INTO products (id, name, created_at, active, price)\n",
    "VALUES\n",
    "    (5, 'glue', '2019-11-08 01:00', TRUE, 2.5),\n",
    "    (6, 'premium glue', '2019-12-08 01:00', FALSE, 3.0),\n",
    "    (7, 'premium case', '2019-12-08 01:00', FALSE, 200.0),\n",
    "    (8, 'premium pen', '2019-12-08 01:00', FALSE, 200.0)\n",
    ";"
   ]
  },
  {
   "cell_type": "code",
   "execution_count": 19,
   "metadata": {
    "slideshow": {
     "slide_type": "skip"
    }
   },
   "outputs": [
    {
     "name": "stdout",
     "output_type": "stream",
     "text": [
      " * sqlite:///data/exemplo.db\n",
      "Done.\n"
     ]
    },
    {
     "data": {
      "text/plain": [
       "[]"
      ]
     },
     "execution_count": 19,
     "metadata": {},
     "output_type": "execute_result"
    }
   ],
   "source": [
    "%%sql\n",
    "-- deletando produtos caros, 'premium case' e 'premium pen serão deletados\n",
    "delete from products where price > 100"
   ]
  },
  {
   "cell_type": "code",
   "execution_count": 20,
   "metadata": {
    "slideshow": {
     "slide_type": "skip"
    }
   },
   "outputs": [
    {
     "name": "stdout",
     "output_type": "stream",
     "text": [
      " * sqlite:///data/exemplo.db\n",
      "Done.\n"
     ]
    },
    {
     "data": {
      "text/html": [
       "<table>\n",
       "    <tr>\n",
       "        <th>id</th>\n",
       "        <th>name</th>\n",
       "        <th>created_at</th>\n",
       "        <th>active</th>\n",
       "        <th>price</th>\n",
       "    </tr>\n",
       "</table>"
      ],
      "text/plain": [
       "[]"
      ]
     },
     "execution_count": 20,
     "metadata": {},
     "output_type": "execute_result"
    }
   ],
   "source": [
    "%%sql\n",
    "-- verificando se existem produtos com preço maior que 100\n",
    "select * from products where price > 100"
   ]
  },
  {
   "cell_type": "markdown",
   "metadata": {
    "slideshow": {
     "slide_type": "slide"
    }
   },
   "source": [
    "## Case simples\n"
   ]
  },
  {
   "cell_type": "code",
   "execution_count": 21,
   "metadata": {
    "slideshow": {
     "slide_type": "subslide"
    }
   },
   "outputs": [
    {
     "name": "stdout",
     "output_type": "stream",
     "text": [
      " * sqlite:///data/exemplo.db\n",
      "(sqlite3.OperationalError) no such table: table\n",
      "[SQL: -- quero o id, name, data de criacao e o preco\n",
      "-- mas somente dos produtos ativos com valor maior ou igual a 1,00\n",
      "SELECT  \n",
      "    [columns]\n",
      "FROM \n",
      "    [table]\n",
      "WHERE\n",
      "    [condition]]\n",
      "(Background on this error at: https://sqlalche.me/e/14/e3q8)\n"
     ]
    }
   ],
   "source": [
    "%%sql\n",
    "-- colunas disponiveis: id, name, created_at, price e active\n",
    "-- quero o id, name, created_at e o price\n",
    "-- mas somente dos produtos ativos com valor maior ou igual a 1,00\n",
    "SELECT  \n",
    "    [columns]\n",
    "FROM \n",
    "    [table]\n",
    "WHERE\n",
    "    [condition]"
   ]
  },
  {
   "cell_type": "markdown",
   "metadata": {
    "slideshow": {
     "slide_type": "slide"
    }
   },
   "source": [
    "## Resposta - Case simples"
   ]
  },
  {
   "cell_type": "code",
   "execution_count": 29,
   "metadata": {
    "slideshow": {
     "slide_type": "subslide"
    }
   },
   "outputs": [
    {
     "name": "stdout",
     "output_type": "stream",
     "text": [
      " * sqlite:///data/exemplo.db\n",
      "Done.\n"
     ]
    },
    {
     "data": {
      "text/html": [
       "<table>\n",
       "    <tr>\n",
       "        <th>id</th>\n",
       "        <th>name</th>\n",
       "        <th>created_at</th>\n",
       "        <th>price</th>\n",
       "    </tr>\n",
       "    <tr>\n",
       "        <td>3</td>\n",
       "        <td>pencil</td>\n",
       "        <td>2019-11-08 01:00</td>\n",
       "        <td>1.3</td>\n",
       "    </tr>\n",
       "    <tr>\n",
       "        <td>5</td>\n",
       "        <td>glue</td>\n",
       "        <td>2019-11-08 01:00</td>\n",
       "        <td>2.5</td>\n",
       "    </tr>\n",
       "</table>"
      ],
      "text/plain": [
       "[(3, 'pencil', '2019-11-08 01:00', 1.3), (5, 'glue', '2019-11-08 01:00', 2.5)]"
      ]
     },
     "execution_count": 29,
     "metadata": {},
     "output_type": "execute_result"
    }
   ],
   "source": [
    "%%sql\n",
    "-- quero o id, name, data de criacao e o preco\n",
    "-- mas somente dos produtos ativos com valor maior ou igual a 1\n",
    "SELECT  \n",
    "    id, name, created_at, price\n",
    "FROM \n",
    "    products\n",
    "WHERE\n",
    "    active = 1 AND price >= 1"
   ]
  },
  {
   "cell_type": "markdown",
   "metadata": {
    "slideshow": {
     "slide_type": "slide"
    }
   },
   "source": [
    "## Esquema de dados e o diagrama ER  (ERD)\n",
    "* Schema - estrutura descrita em uma linguagem formal (metadados, exemplo: nome de tabelas, colunas, tipo das colunas...)\n",
    "* Diagrama de entidade e relacionamento -  representa visualmente as entidades, ou tabelas, no banco de dados junto com os relacionamentos entre as tabelas"
   ]
  },
  {
   "cell_type": "markdown",
   "metadata": {
    "slideshow": {
     "slide_type": "subslide"
    }
   },
   "source": [
    "* Os diagramas são representações visuais do schema do banco de dados\n",
    "\n",
    "Ver mais sobre ERD: https://www.youtube.com/watch?v=QpdhBUYk7Kk&ab_channel=Lucidchart"
   ]
  },
  {
   "cell_type": "markdown",
   "metadata": {
    "slideshow": {
     "slide_type": "slide"
    }
   },
   "source": [
    "## Entidades diagrama ER\n",
    "\n",
    "<img src=\"imgs_sql_intro/er_diagram_entities.png\" alt=\"Drawing\" width=70%/>"
   ]
  },
  {
   "cell_type": "markdown",
   "metadata": {
    "slideshow": {
     "slide_type": "slide"
    }
   },
   "source": [
    "## Diagrama ER (crow's foot notation)\n",
    "* O circulo representa \"zero\"\n",
    "* O traço representa \"one\"\n",
    "* O pé de galinha represents \"many\" (muitos) ou \"infinite\""
   ]
  },
  {
   "cell_type": "markdown",
   "metadata": {
    "slideshow": {
     "slide_type": "subslide"
    }
   },
   "source": [
    "Os principais tipos de ralações são: one to many, many to many, one to one\n",
    "\n",
    "<img src=\"imgs_sql_intro/er_cardinality.png?asd\" alt=\"Drawing\" width=35%/>"
   ]
  },
  {
   "cell_type": "markdown",
   "metadata": {
    "slideshow": {
     "slide_type": "slide"
    }
   },
   "source": [
    "## Diagrama ER, com as relações\n",
    "* Lucidchart (software para desenho dos diagramas)\n",
    "* Relações \"many to many\" geralmente precisam de uma tabela auxiliar"
   ]
  },
  {
   "cell_type": "markdown",
   "metadata": {
    "slideshow": {
     "slide_type": "subslide"
    }
   },
   "source": [
    "<img src=\"imgs_sql_intro/er_diagram_relations.png?a=123\" alt=\"Drawing\" width=70%/>"
   ]
  },
  {
   "cell_type": "markdown",
   "metadata": {
    "slideshow": {
     "slide_type": "slide"
    }
   },
   "source": [
    "## Diagrama ER - many to many (bridge tables)\n",
    "* Em um BD relacional usamos uma entidade auxiliar para representar uma relação \"many to many\"\n",
    "* Nesse caso podemos adicionar a entidade \"OrderItem\", para relacionar \"Order\" com \"Product\"\n",
    "\n"
   ]
  },
  {
   "cell_type": "markdown",
   "metadata": {
    "slideshow": {
     "slide_type": "subslide"
    }
   },
   "source": [
    "<img src=\"imgs_sql_intro/er_diagram_many_to_many.png?a=123\" alt=\"Drawing\" width=70%/>"
   ]
  },
  {
   "cell_type": "markdown",
   "metadata": {
    "slideshow": {
     "slide_type": "slide"
    }
   },
   "source": [
    "## Exemplo de um diagrama ER\n",
    "\n",
    "<img src=\"imgs_sql_intro/sqlite-sample-database-color.jpg\" alt=\"Drawing\" width=75%/>"
   ]
  },
  {
   "cell_type": "markdown",
   "metadata": {
    "slideshow": {
     "slide_type": "slide"
    }
   },
   "source": [
    "## DBeaver\n",
    "\n",
    "O [DBeaver](https://dbeaver.io/) é um client SQL e uma ferramenta de administração e consulta de banco de dados relacionais.\n"
   ]
  },
  {
   "cell_type": "markdown",
   "metadata": {
    "slideshow": {
     "slide_type": "subslide"
    }
   },
   "source": [
    "Conectando com o dbeaver:\n",
    "\n",
    "- Baixar o banco sqlite: https://www.sqlitetutorial.net/sqlite-sample-database/\n",
    "- Instalar o Dbeaver\n",
    "- Abrir o banco sqlite chinook.db no Dbeaver"
   ]
  },
  {
   "cell_type": "markdown",
   "metadata": {
    "slideshow": {
     "slide_type": "slide"
    }
   },
   "source": [
    "## DBeaver\n",
    "Rodar a seguinte query no DBeaver:\n",
    "```SQL\n",
    "select \n",
    "    InvoiceDate as date,\n",
    "    sum(Total) as revenue\n",
    "from \n",
    "    invoices \n",
    "group by 1\n",
    "````"
   ]
  },
  {
   "cell_type": "markdown",
   "metadata": {
    "slideshow": {
     "slide_type": "slide"
    }
   },
   "source": [
    "## Exercício - Site de Viagens\n",
    "* Montar um diagrama ER para um site de gestão de Viagens\n",
    "* Entidades negociais: usuário, viagem, cidade\n",
    "* Constraints: \n",
    "    - Um usuário pode passar por diferentes cidades em uma mesma viagem\n",
    "    - Um usuário pode adicionar amigos (outros usuários na viagem)\n",
    "* Ferramenta: https://www.lucidchart.com/"
   ]
  },
  {
   "cell_type": "markdown",
   "metadata": {
    "slideshow": {
     "slide_type": "slide"
    }
   },
   "source": [
    "## Resposta - Site de Viagens\n",
    "* Resposta: [Link](https://lucid.app/lucidchart/8d4ace0f-e52c-48e8-8d59-abfc5ab62d88/view)"
   ]
  },
  {
   "cell_type": "markdown",
   "metadata": {
    "slideshow": {
     "slide_type": "slide"
    }
   },
   "source": [
    "# SQL vs. NoSQL"
   ]
  },
  {
   "cell_type": "markdown",
   "metadata": {
    "slideshow": {
     "slide_type": "subslide"
    }
   },
   "source": [
    "Com o advento de alguns paradigmas, sobretudo Big Data, tecnologias de bancos além do relacional ficaram populares. Esses bancos ficaram conhecidos como **NoSQL**, que podem significar bancos não relacionais ou distribuídos. Contudo, alguns desses bancos também suportam a linguagem SQL, então **NoSQL** também pode significar **not only SQL**.\n",
    "\n",
    "Para entender um pouco melhor disso, precisamos entender o conceito de **ACID**"
   ]
  },
  {
   "cell_type": "markdown",
   "metadata": {
    "slideshow": {
     "slide_type": "slide"
    }
   },
   "source": [
    "# Propriedades ACID\n",
    "\n",
    "**A**- Atomicity\n",
    "\n",
    "**C**- Consistency\n",
    "\n",
    "**I**- Isolation\n",
    "\n",
    "**D**- Durability"
   ]
  },
  {
   "cell_type": "markdown",
   "metadata": {
    "slideshow": {
     "slide_type": "subslide"
    }
   },
   "source": [
    "<img src=\"imgs_sql_intro/acid.png\" alt=\"Drawing\" width=75%/>"
   ]
  },
  {
   "cell_type": "markdown",
   "metadata": {
    "slideshow": {
     "slide_type": "subslide"
    }
   },
   "source": [
    "* Atomicidade significa que toda transação **ou** é concluida **ou** falha. Ou seja, não existe um estado intermediário (e.g. transação parcialmente concluida)\n",
    "\n",
    "* Consistência signigica que a transação sao do banco em um estado valido\n",
    "\n"
   ]
  },
  {
   "cell_type": "markdown",
   "metadata": {
    "slideshow": {
     "slide_type": "subslide"
    }
   },
   "source": [
    "* Idepotência (ou Isolamento) significa que duas transações não interferem entre si. O resultado de duas transações, seja em paralelo ou sequêncial, tem a mesma resposta\n",
    "\n",
    "* Durabilidade significa que mudanças nas transações são salvas. Se eu desligo a maquina e volto, o dado está lá"
   ]
  },
  {
   "cell_type": "markdown",
   "metadata": {
    "slideshow": {
     "slide_type": "fragment"
    }
   },
   "source": [
    "**Todos RDBMS garantem operações ACID**"
   ]
  },
  {
   "cell_type": "markdown",
   "metadata": {
    "slideshow": {
     "slide_type": "slide"
    }
   },
   "source": [
    "# SQL- Pros vs. Cons"
   ]
  },
  {
   "cell_type": "markdown",
   "metadata": {
    "slideshow": {
     "slide_type": "subslide"
    }
   },
   "source": [
    "## Pros\n",
    "\n",
    "- Queries Flexiveis: Permite o suporte a workloads diversos. Existe uma abstração dos dados e eu não preciso me preocupar _muito_ em fazer a query mais performatica possivel, uma vez que a engine do banco pode otimizar isso para mim.\n",
    "\n",
    "- Por conta da normalização dos dados, a performance do banco e uso de recurso tende a ser superior\n",
    "\n",
    "- Existe uma garantia das operações ACID"
   ]
  },
  {
   "cell_type": "markdown",
   "metadata": {
    "slideshow": {
     "slide_type": "subslide"
    }
   },
   "source": [
    "## Cons\n",
    "\n",
    "- Modelos de dados mais rigidos, uma vez que os dados são estruturados **sempre**. Para todo dado que vou salvar, preciso pensar no design do schema, nas relações, modelo Entidade Relacionamento\n",
    "\n",
    "- Escalabilidade horizontal limitada: uma base maior vai ter dificuldade para performar computação idependende das maquinas que eu rode em paralelo, uma vez que esses bancos **não são distribuidos**\n",
    "\n",
    "- Pela ausência de computação distribuidas, eu tenho um unico ponto de falha e preciso mitigar isso fazendo replicas do banco"
   ]
  },
  {
   "cell_type": "markdown",
   "metadata": {
    "slideshow": {
     "slide_type": "slide"
    }
   },
   "source": [
    "# NoSQL"
   ]
  },
  {
   "cell_type": "markdown",
   "metadata": {
    "slideshow": {
     "slide_type": "subslide"
    }
   },
   "source": [
    "Com suas raízes em bancos orientados a grafo, chave-valor e colunares-- esses bancos foram emergiram no começo dos anos 90 e receberam o nome de Not Only SQL (NoSQL), uma vez que eles suportariam as capacidades de SQL, mas sua proposta era ir além dele. Com o advento do termo BigData e estruturações de dados cada vez menos estruturados, eles começaram a ganhar fama por volta de 2010 e até hoje são populares.\n",
    "\n",
    "Apesar do nome, é valido falar que esses sistemas **abdicam** de algumas garantias de SQL e RDBMS clássicos para favorecer **performance e flexibilidade**\n",
    "\n",
    "Decidir entre um banco relacional ou não relacional é necessário ter uma boa noção do design e limitações do banco vs. o que você busca realizar como desenvolvedor. **Você não quer sacrificar a garantia de atomicidade quando sua operação pode exigir isso para existir**"
   ]
  },
  {
   "cell_type": "markdown",
   "metadata": {
    "slideshow": {
     "slide_type": "subslide"
    }
   },
   "source": [
    "## Pros\n",
    "\n",
    "* Escalabilidade e alta disponibilidade: muitos desses bancos por design conseguem suportar escalabilidade e não tem pontos de falha únicos\n",
    "\n",
    "* Modelos de dados flexiveis: Muitos bancos são schema-free, ou dinâmicos e, logo, facilmente alteraveis _on the fly_\n",
    "\n",
    "* Schema dinâmico: facilitando armazenar dados não estruturados\n",
    "\n",
    "* Alta performance: Alguns dos bancos abrem mão da propriedade de durabilidade para favorecer alto desempenho/performance"
   ]
  },
  {
   "cell_type": "markdown",
   "metadata": {
    "slideshow": {
     "slide_type": "subslide"
    }
   },
   "source": [
    "## Cons\n",
    "\n",
    "- Limitações em relação as propriedades ACID\n",
    "\n",
    "- Sistemas distribuidos tem problemas de sistemas de distribuidos rs.\n",
    "\n",
    "- Se não souber usar um banco NoSQL direito (ou usar o banco com proposito errado), a chance de você ter dor de cabeça e problemas de performance para ler queries é **alta**"
   ]
  },
  {
   "cell_type": "markdown",
   "metadata": {
    "slideshow": {
     "slide_type": "subslide"
    }
   },
   "source": [
    "## Exemplos de NoSQL databases\n",
    "- Redis\n",
    "- **MongoDB**\n",
    "- Cassandra\n",
    "- Elasticsearch"
   ]
  },
  {
   "cell_type": "markdown",
   "metadata": {
    "slideshow": {
     "slide_type": "slide"
    }
   },
   "source": [
    "# SQL vs. NoSQL\n",
    "\n",
    "Quando usar cada um?\n",
    "\n"
   ]
  },
  {
   "cell_type": "markdown",
   "metadata": {
    "slideshow": {
     "slide_type": "subslide"
    }
   },
   "source": [
    "* IMO: Se você puder usar um banco relacional, prefira um banco relacional. O modelo entidade relacionamento faz bastante sentido do ponto de vista de negócio; esses bancos conseguem escalar verticalmente e as propriedades ACID são realmente muito uteis na maioria dos casos\n",
    "\n",
    "* Muitas pessoas consideram NoSQL pela sua simplicidade (e.g. não precisar pensar no schema de antemão). Isso pode sempre _parecer_ uma boa ideia, mas não é uma vez que esse trade-off acaba trazendo muitas dores de cabeça no futuro.\n",
    "\n"
   ]
  },
  {
   "cell_type": "markdown",
   "metadata": {
    "slideshow": {
     "slide_type": "subslide"
    }
   },
   "source": [
    "* Para considerar NoSQL, é útil saber de antemão para o que sua aplicação será usada. Por exemplo, em uma aplicação que é um sistema/engine de busca, faz muito mais sentido usar um Elasticsearch do que um MySQL. Em um sistema Near Real Time em que você  já sabe o que seu usuário pode vir querer, usar um Redis ou Cassandra pode ser mais inteligente do que um Postgres\n"
   ]
  },
  {
   "cell_type": "markdown",
   "metadata": {
    "slideshow": {
     "slide_type": "subslide"
    }
   },
   "source": [
    "* Se você **sabe** que sua aplicação vai/precisa escalar rápido; a escalabilidade horizontal de muitos bancos NoSQL pode ajudar, enquanto se você vai trabalhar com dados não estruturados, ou cujo schema muda constantemente, usar um banco NoSQL pode ser uma escolha natural"
   ]
  },
  {
   "cell_type": "markdown",
   "metadata": {
    "slideshow": {
     "slide_type": "subslide"
    }
   },
   "source": [
    "[Alguns recursos adicionais](https://www.ibm.com/cloud/blog/sql-vs-nosql)"
   ]
  },
  {
   "cell_type": "markdown",
   "metadata": {
    "slideshow": {
     "slide_type": "slide"
    }
   },
   "source": [
    "## Exemplos práticos de NoSQL"
   ]
  },
  {
   "cell_type": "markdown",
   "metadata": {
    "slideshow": {
     "slide_type": "subslide"
    }
   },
   "source": [
    "Exemplo de um \"insert\" no Elasticsearch\n",
    "\n",
    "```\n",
    "POST _bulk\n",
    "{ \"index\" : { \"_index\" : \"employees\", \"_id\" : \"1\" } }\n",
    "{\"id\":1,\"name\":\"Huntlee Dargavel\",\"email\":\"hdargavel0@japanpost.jp\",\"gender\":\"male\",\"ip_address\":\"58.11.89.193\",\"date_of_birth\":\"11/09/1990\",\"company\":\"Talane\",\"position\":\"Research Associate\",\"experience\":7,\"country\":\"China\",\"phrase\":\"Multi-channelled coherent leverage\",\"salary\":180025}\n",
    "```"
   ]
  },
  {
   "cell_type": "markdown",
   "metadata": {
    "slideshow": {
     "slide_type": "subslide"
    }
   },
   "source": [
    "Exemplo de um insert no Cassandra\n",
    "\n",
    "```\n",
    "Insert into KeyspaceName.TableName(ColumnName1, ColumnName2, ColumnName3 . . . .)\n",
    "values (Column1Value, Column2Value, Column3Value . . . .)\n",
    "```\n",
    "\n",
    "Perceba que no caso do Cassandra, ele só preenche **as colunas que eu passar**; no caso de um RDBMS, ele iria dar erro na mesma operação!"
   ]
  },
  {
   "cell_type": "markdown",
   "metadata": {
    "slideshow": {
     "slide_type": "subslide"
    }
   },
   "source": [
    "Exemplo de um insert no MongoDB\n",
    "\n",
    "`db.movie.insert({\"name\":\"Avengers: Endgame\"})`\n",
    "\n",
    "Semelhante ao Elasticsearch, ele aceita um JSON, o que permite flexibilidade sobre o schema. Porém, igual ao ES, `joins` aqui são caóticos justamente por isso"
   ]
  },
  {
   "cell_type": "markdown",
   "metadata": {
    "slideshow": {
     "slide_type": "slide"
    }
   },
   "source": [
    "# Uma breve introdução a arquitetura de dados"
   ]
  },
  {
   "cell_type": "markdown",
   "metadata": {
    "slideshow": {
     "slide_type": "fragment"
    }
   },
   "source": [
    "A maneira que as empresas foram crecendo e entramos na era de dados, tão importante quanto **qual** banco utilizar (RDBMS vs. Elasticsearch vs. Cassandra); **como** organizar essas informação virou algo super importante. E **como** utilizar depende do **por quê** queremos utilizar os nossos dados (e.g. tirar insights, servir como base para modelos preditivos, etc.)"
   ]
  },
  {
   "cell_type": "markdown",
   "metadata": {
    "slideshow": {
     "slide_type": "subslide"
    }
   },
   "source": [
    "Vamos para um **caso prático**"
   ]
  },
  {
   "cell_type": "markdown",
   "metadata": {
    "slideshow": {
     "slide_type": "subslide"
    }
   },
   "source": [
    "Suponha que você é dono de **uma rede de lojas de celulares** e por conta disso, você armazena seus dados em RDBMS e, mais especificamente dois:"
   ]
  },
  {
   "cell_type": "markdown",
   "metadata": {
    "slideshow": {
     "slide_type": "fragment"
    }
   },
   "source": [
    "- Um, POS (Point of Sale), que armazena as transações financeiras da sua empresa e as relações entre as tabelas dizem respeito a esse. Você resolveu utilizar o **MySQL** aqui"
   ]
  },
  {
   "cell_type": "markdown",
   "metadata": {
    "slideshow": {
     "slide_type": "subslide"
    }
   },
   "source": [
    "- Outro para armazenar seguros dos celulares que as pessoas compram e, logo, as relações dizem respeito ao seguro contratado. Você resolveu utilizar o **Oracle aqui**\n",
    "\n",
    "- E, além disso, você resolveu salvar pdfs de formulários de feedback dos clientes no **Azure Blob Storage**"
   ]
  },
  {
   "attachments": {},
   "cell_type": "markdown",
   "metadata": {
    "slideshow": {
     "slide_type": "subslide"
    }
   },
   "source": [
    "<img src=\"imgs_sql_intro/commerce.png\" alt=\"Drawing\" width=75%/>"
   ]
  },
  {
   "attachments": {},
   "cell_type": "markdown",
   "metadata": {
    "slideshow": {
     "slide_type": "subslide"
    }
   },
   "source": [
    "<img src=\"imgs_sql_intro/unstructured.png\" alt=\"Drawing\" width=75%/>"
   ]
  },
  {
   "cell_type": "markdown",
   "metadata": {
    "slideshow": {
     "slide_type": "subslide"
    }
   },
   "source": [
    "Agora, seu negócio cresce e você tem dados estruturados e não estruturados corretamente armazenados e você quer descobrir coisas específicas sobre os seus dados, por exemplo:"
   ]
  },
  {
   "attachments": {},
   "cell_type": "markdown",
   "metadata": {
    "slideshow": {
     "slide_type": "subslide"
    }
   },
   "source": [
    "<img src=\"imgs_sql_intro/use-cases.png\" alt=\"Drawing\" width=75%/>"
   ]
  },
  {
   "cell_type": "markdown",
   "metadata": {
    "slideshow": {
     "slide_type": "subslide"
    }
   },
   "source": [
    "Para responder essas perguntas, podemos começar a fazer operações agregadas e queries **entre os bancos**, certo?\n",
    "\n",
    "**Qual o problema?**"
   ]
  },
  {
   "cell_type": "markdown",
   "metadata": {
    "slideshow": {
     "slide_type": "fragment"
    }
   },
   "source": [
    "**Performance**\n",
    "\n",
    "Lembrem-se que esse mesmo banco que estamos fazendo operações de querie/leitura, existem outras, mais críticas, que estão relacionadas ao dia a dia da operação!"
   ]
  },
  {
   "cell_type": "markdown",
   "metadata": {
    "slideshow": {
     "slide_type": "subslide"
    }
   },
   "source": [
    "A saída que muitas empresas passaram a fazer é transferir uma cópia de **todos** os bancos para um **único database** focado para fazer **análises**!\n",
    "\n",
    "Talvez você queira fazer algumas transformações para facilitar suas análises :) Então o ideal é, **antes** de fazer essa cópia, você quer **extrair** os dados de diferentes fontes; **transformar** esses dados em algum processo intermediário e **carregar esses dados** em uma nova base, focada para o seu cenário. Esse processo é conhecido como **ETL**. Esse banco **normalizado**, para análises, é chamado de **Data Warehouse**"
   ]
  },
  {
   "attachments": {},
   "cell_type": "markdown",
   "metadata": {
    "slideshow": {
     "slide_type": "subslide"
    }
   },
   "source": [
    "<img src=\"imgs_sql_intro/etl-dw-2.png\" alt=\"Drawing\" width=75%/>"
   ]
  },
  {
   "attachments": {},
   "cell_type": "markdown",
   "metadata": {
    "slideshow": {
     "slide_type": "subslide"
    }
   },
   "source": [
    "Entrando em mais especificade, esses bancos mais ligados a operação, são conhecidos como **online transactional processing**, ou OLTP, enquanto os bancos analíticos são conhecidos como sistemas de de processamento analítico online, ou **online analytical processing**\n",
    "\n",
    "- OLTP são os processos que você precisa estar ligado ao cliente e, logo, são mais operacionais\n",
    "- OLAP são processos analíticos e você tá mais preocupado em **servir isso apenas internamente**\n"
   ]
  },
  {
   "cell_type": "markdown",
   "metadata": {
    "slideshow": {
     "slide_type": "subslide"
    }
   },
   "source": [
    "Esses tópicos ficaram mais famosos na disciplina de **Business Inteligence**, que evoluiu para **Analytics**, mas é legal ter essa noção de um ponto de vista histório, uma vez que **Data Science** evoluiu como uma carreira **paralela** de **Analytics**\n",
    "\n",
    "<img src=\"imgs_sql_intro/oltp-olap.png\" alt=\"Drawing\" width=50%/>"
   ]
  },
  {
   "cell_type": "markdown",
   "metadata": {
    "slideshow": {
     "slide_type": "slide"
    }
   },
   "source": [
    "**Basicamente, se temos dados menos estruturados, pode ser dificil colocar isso em um DW**"
   ]
  },
  {
   "cell_type": "markdown",
   "metadata": {
    "slideshow": {
     "slide_type": "subslide"
    }
   },
   "source": [
    "A saida para isso é usar uma estrutura que segue _levemente_ a mesma ideia, conhecida como **DataLake**, que pode ser entendida como a evolução do DW"
   ]
  },
  {
   "attachments": {},
   "cell_type": "markdown",
   "metadata": {
    "slideshow": {
     "slide_type": "fragment"
    }
   },
   "source": [
    "<img src=\"imgs_sql_intro/datalake1.png\" alt=\"Drawing\" width=50%/>"
   ]
  },
  {
   "attachments": {},
   "cell_type": "markdown",
   "metadata": {
    "slideshow": {
     "slide_type": "subslide"
    }
   },
   "source": [
    "<img src=\"imgs_sql_intro/datalake2.png\" alt=\"Drawing\" width=75%/>"
   ]
  },
  {
   "cell_type": "markdown",
   "metadata": {
    "slideshow": {
     "slide_type": "subslide"
    }
   },
   "source": [
    "## Arquitetura do Datalake"
   ]
  },
  {
   "cell_type": "markdown",
   "metadata": {
    "slideshow": {
     "slide_type": "fragment"
    }
   },
   "source": [
    "<img src=\"imgs_sql_intro/datalake3.png\" alt=\"Drawing\" width=75%/>"
   ]
  },
  {
   "cell_type": "markdown",
   "metadata": {
    "slideshow": {
     "slide_type": "slide"
    }
   },
   "source": [
    "# E no dia a dia?\n",
    "\n",
    "\n",
    "Como o trabalho do Cientista de Dados se encaixa aqui? E Analista de Dados? E Analytics Engineer?"
   ]
  },
  {
   "cell_type": "markdown",
   "metadata": {
    "slideshow": {
     "slide_type": "slide"
    }
   },
   "source": [
    "# Valeu! :)"
   ]
  },
  {
   "cell_type": "markdown",
   "metadata": {
    "slideshow": {
     "slide_type": "subslide"
    }
   },
   "source": [
    "## Alguns links de ajuda (e referências):\n",
    "* https://www.youtube.com/watch?v=xp_hi0_hprk&list=PL_c9BZzLwBRKC2PJwLFxc2y6cyXYYQzj3&index=4\n",
    "* https://www.youtube.com/watch?v=9Pzj7Aj25lw\n",
    "* https://www.youtube.com/watch?v=5bFxbwjN-Gk\n",
    "* https://www.sqlitetutorial.net/\n",
    "* https://www.sqlitetutorial.net/sqlite-sample-database/\n",
    "* https://www.youtube.com/watch?v=Oju_qQKN6i8&ab_channel=GliffyDiagramSoftware\n",
    "* https://www.youtube.com/watch?v=QpdhBUYk7Kk&ab_channel=Lucidchart\n",
    "* https://www.ibm.com/cloud/blog/sql-vs-nosql\n",
    "* https://www.youtube.com/watch?v=oF_2uDb7DvQ\n",
    "* https://www.youtube.com/watch?v=E49BFhThC3U"
   ]
  }
 ],
 "metadata": {
  "celltoolbar": "Slideshow",
  "kernelspec": {
   "display_name": "Python 3 (ipykernel)",
   "language": "python",
   "name": "python3"
  },
  "language_info": {
   "codemirror_mode": {
    "name": "ipython",
    "version": 3
   },
   "file_extension": ".py",
   "mimetype": "text/x-python",
   "name": "python",
   "nbconvert_exporter": "python",
   "pygments_lexer": "ipython3",
   "version": "3.9.0"
  }
 },
 "nbformat": 4,
 "nbformat_minor": 4
}
